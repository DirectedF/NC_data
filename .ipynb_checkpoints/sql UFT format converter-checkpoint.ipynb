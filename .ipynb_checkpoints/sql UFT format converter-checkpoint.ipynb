{
 "cells": [
  {
   "cell_type": "code",
   "execution_count": 2,
   "id": "12486734-5033-4659-81cb-f224dd2a094f",
   "metadata": {
    "tags": []
   },
   "outputs": [
    {
     "name": "stdout",
     "output_type": "stream",
     "text": [
      "Processed ncfin_acfr.sql\n",
      "Processed ncfin_budget.sql\n",
      "Processed ncgov_acs_kpis.sql\n",
      "Processed ncgov_acs_kpis2022.sql\n",
      "Processed ncgov_counties.sql\n",
      "Processed ncgov_greatschools.sql\n",
      "Processed ncleg_bills.sql\n",
      "Processed ncleg_committees_2023.sql\n",
      "Processed ncleg_docs_2023.sql\n",
      "Processed ncleg_filed_bills_house_2023.sql\n",
      "Processed ncleg_filed_bills_senate_2023.sql\n",
      "Processed ncleg_house_members_with_titles.sql\n",
      "Processed ncleg_laws_modified.sql\n",
      "Processed ncleg_members_contact_info.sql\n",
      "Processed ncleg_members_house.sql\n",
      "Processed ncleg_members_house_has_committees_2023.sql\n",
      "Processed ncleg_members_senate.sql\n",
      "Processed ncleg_member_contact_info.sql\n",
      "Processed ncleg_member_titles.sql\n",
      "Processed ncleg_ncleg.filed_bills_house_2023.sql\n",
      "Processed ncleg_ncleg.filed_bills_senate_2023.sql\n",
      "Processed ncleg_ncleg.laws_modified.sql\n",
      "Processed ncleg_news_2023.sql\n",
      "Processed ncvotes_results.sql\n",
      "Processed ncvotes_stats.sql\n",
      "Processed ncvotes_voters.sql\n"
     ]
    }
   ],
   "source": [
    "import os\n",
    "\n",
    "directory = r'C:\\Users\\kurt\\OneDrive\\Documents\\dumps'  # Update this to the path containing your SQL files\n",
    "old_collation = 'utf8mb4_0900_ai_ci'\n",
    "new_collation = 'utf8mb4_general_ci'\n",
    "\n",
    "for filename in os.listdir(directory):\n",
    "    if filename.endswith(\".sql\"):\n",
    "        filepath = os.path.join(directory, filename)\n",
    "        with open(filepath, 'r', encoding='utf-8') as file:\n",
    "            filedata = file.read()\n",
    "\n",
    "        filedata = filedata.replace(old_collation, new_collation)\n",
    "\n",
    "        with open(filepath, 'w', encoding='utf-8') as file:\n",
    "            file.write(filedata)\n",
    "        print(f\"Processed {filename}\")\n"
   ]
  },
  {
   "cell_type": "code",
   "execution_count": null,
   "id": "a8de42be-8b8e-4f22-b50a-fd5001b7e10d",
   "metadata": {},
   "outputs": [],
   "source": []
  }
 ],
 "metadata": {
  "kernelspec": {
   "display_name": "Python 3 (ipykernel)",
   "language": "python",
   "name": "python3"
  },
  "language_info": {
   "codemirror_mode": {
    "name": "ipython",
    "version": 3
   },
   "file_extension": ".py",
   "mimetype": "text/x-python",
   "name": "python",
   "nbconvert_exporter": "python",
   "pygments_lexer": "ipython3",
   "version": "3.11.5"
  }
 },
 "nbformat": 4,
 "nbformat_minor": 5
}
